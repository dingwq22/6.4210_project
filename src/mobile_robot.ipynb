{
 "cells": [
  {
   "cell_type": "code",
   "execution_count": 1,
   "metadata": {},
   "outputs": [],
   "source": [
    "from pydrake.all import ModelVisualizer, StartMeshcat, PackageMap, Simulator\n",
    "\n",
    "from manipulation import running_as_notebook, ConfigureParser\n",
    "from manipulation.station import load_scenario, MakeHardwareStation"
   ]
  },
  {
   "cell_type": "code",
   "execution_count": 2,
   "metadata": {},
   "outputs": [
    {
     "name": "stderr",
     "output_type": "stream",
     "text": [
      "INFO:drake:Meshcat listening for connections at http://localhost:7001\n"
     ]
    }
   ],
   "source": [
    "# Start the visualizer.\n",
    "meshcat = StartMeshcat()"
   ]
  },
  {
   "cell_type": "code",
   "execution_count": 3,
   "metadata": {},
   "outputs": [
    {
     "name": "stderr",
     "output_type": "stream",
     "text": [
      "INFO:drake:Click 'Stop Running' or press Esc to quit\n"
     ]
    },
    {
     "data": {
      "text/plain": [
       "<pydrake.systems.analysis.SimulatorStatus at 0x4071fc20f0>"
      ]
     },
     "execution_count": 3,
     "metadata": {},
     "output_type": "execute_result"
    }
   ],
   "source": [
    "\n",
    "\n",
    "visualizer = ModelVisualizer(meshcat=meshcat)\n",
    "ConfigureParser(visualizer.parser())\n",
    "visualizer.AddModels(\n",
    "    url=\"package://manipulation/mobile_iiwa14_primitive_collision.urdf\"\n",
    ")\n",
    "visualizer.Run(loop_once=not running_as_notebook)\n",
    "meshcat.DeleteAddedControls()\n",
    "\n",
    "\n",
    "# Here is a version using the HardwareStation interface. \n",
    "# Note that we use a generic InverseDynamics driver instead of the existing IiwaDriver \n",
    "# (and the ports are now more generic, too), \n",
    "# because we need the controller to also reason about the mobile base joints.\n",
    "scenario_data = \"\"\"\n",
    "directives:\n",
    "- add_model:\n",
    "    name: mobile_iiwa\n",
    "    file: package://manipulation/mobile_iiwa14_primitive_collision.urdf\n",
    "    default_joint_positions:\n",
    "        iiwa_joint_1: [-1.57]\n",
    "        iiwa_joint_2: [0.1]\n",
    "        iiwa_joint_3: [0]\n",
    "        iiwa_joint_4: [-1.2]\n",
    "        iiwa_joint_5: [0]\n",
    "        iiwa_joint_6: [ 1.6]\n",
    "        iiwa_joint_7: [0]\n",
    "model_drivers:\n",
    "    mobile_iiwa: !InverseDynamicsDriver {}\n",
    "\"\"\"\n",
    "\n",
    "scenario = load_scenario(data=scenario_data)\n",
    "station = MakeHardwareStation(scenario, meshcat)\n",
    "simulator = Simulator(station)\n",
    "context = simulator.get_mutable_context()\n",
    "x0 = station.GetOutputPort(\"mobile_iiwa.state_estimated\").Eval(context)\n",
    "station.GetInputPort(\"mobile_iiwa.desired_state\").FixValue(context, x0)\n",
    "simulator.AdvanceTo(0.1)"
   ]
  },
  {
   "cell_type": "code",
   "execution_count": null,
   "metadata": {},
   "outputs": [],
   "source": []
  }
 ],
 "metadata": {
  "kernelspec": {
   "display_name": "Python 3 (ipykernel)",
   "language": "python",
   "name": "python3"
  },
  "language_info": {
   "codemirror_mode": {
    "name": "ipython",
    "version": 3
   },
   "file_extension": ".py",
   "mimetype": "text/x-python",
   "name": "python",
   "nbconvert_exporter": "python",
   "pygments_lexer": "ipython3",
   "version": "3.10.12"
  }
 },
 "nbformat": 4,
 "nbformat_minor": 2
}
